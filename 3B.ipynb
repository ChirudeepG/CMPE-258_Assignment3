{
  "nbformat": 4,
  "nbformat_minor": 0,
  "metadata": {
    "colab": {
      "provenance": [],
      "authorship_tag": "ABX9TyMmDj9muvFktE9oN+tDau8f",
      "include_colab_link": true
    },
    "kernelspec": {
      "name": "python3",
      "display_name": "Python 3"
    },
    "language_info": {
      "name": "python"
    }
  },
  "cells": [
    {
      "cell_type": "markdown",
      "metadata": {
        "id": "view-in-github",
        "colab_type": "text"
      },
      "source": [
        "<a href=\"https://colab.research.google.com/github/ChirudeepG/CMPE-258-Assignment2/blob/main/2B_using_Numpy.ipynb\" target=\"_parent\"><img src=\"https://colab.research.google.com/assets/colab-badge.svg\" alt=\"Open In Colab\"/></a>"
      ]
    },
    {
      "cell_type": "code",
      "execution_count": 1,
      "metadata": {
        "id": "fb8YsRcbwy4_"
      },
      "outputs": [],
      "source": [
        "import numpy as np"
      ]
    },
    {
      "cell_type": "markdown",
      "source": [
        "# Scalar vector multiplication"
      ],
      "metadata": {
        "id": "qkZl9dqrxNHf"
      }
    },
    {
      "cell_type": "code",
      "source": [
        "a = np.array([1])\n",
        "b = np.array([4, 5])\n",
        "mult = np.einsum('i, i -> i', a, b)\n",
        "print(a)\n",
        "print(b)\n",
        "print(mult)"
      ],
      "metadata": {
        "colab": {
          "base_uri": "https://localhost:8080/"
        },
        "id": "0OuoSQvDw9-c",
        "outputId": "dbca4722-4761-4c56-c401-8c9986f8fba5"
      },
      "execution_count": 3,
      "outputs": [
        {
          "output_type": "stream",
          "name": "stdout",
          "text": [
            "[1]\n",
            "[4 5]\n",
            "[4 5]\n"
          ]
        }
      ]
    },
    {
      "cell_type": "markdown",
      "source": [
        "# Vector vector multiplication"
      ],
      "metadata": {
        "id": "MWFtK8y0xYMx"
      }
    },
    {
      "cell_type": "code",
      "source": [
        "a = np.random.randn(2, 6)\n",
        "b = np.random.randn(6, 3)\n",
        "mult = np.einsum('ij, jk -> ik', a, b)\n",
        "print(a)\n",
        "print(b)\n",
        "print(mult)"
      ],
      "metadata": {
        "colab": {
          "base_uri": "https://localhost:8080/"
        },
        "id": "rHCNo7G2yGhB",
        "outputId": "da5e32f0-2f84-46d2-ee2a-0054fe9a9c19"
      },
      "execution_count": 4,
      "outputs": [
        {
          "output_type": "stream",
          "name": "stdout",
          "text": [
            "[[-0.17420637 -0.83879491 -0.66432347 -0.58547925  1.54334592 -2.25883428]\n",
            " [ 0.44860075  0.82428116 -0.31458394 -0.13210289  0.72531735 -0.01744281]]\n",
            "[[ 0.50723422 -0.12419405 -1.68035287]\n",
            " [-0.43378449 -0.4413563   0.80978303]\n",
            " [-1.17833467  1.05169876 -1.17021167]\n",
            " [ 1.4193233  -0.69880103  2.15751296]\n",
            " [ 1.64730168  0.9010086   0.03761291]\n",
            " [ 1.60876479  0.71937765  0.16757439]]\n",
            "[[-0.8642729  -0.13207881 -1.19276676]\n",
            " [ 1.21992882 -0.01707993  0.02115574]]\n"
          ]
        }
      ]
    },
    {
      "cell_type": "markdown",
      "source": [
        "# Outer product\n"
      ],
      "metadata": {
        "id": "nV08WmukxYJo"
      }
    },
    {
      "cell_type": "code",
      "source": [
        "a = np.arange(8)\n",
        "b = np.arange(4, 6)  \n",
        "prod = np.einsum('i,j -> ij', a, b)\n",
        "print(a)\n",
        "print(b)\n",
        "print(prod)"
      ],
      "metadata": {
        "colab": {
          "base_uri": "https://localhost:8080/"
        },
        "id": "ENVAlMg-ybAj",
        "outputId": "c2ac6a6a-e788-49b9-e53e-493586afb956"
      },
      "execution_count": 5,
      "outputs": [
        {
          "output_type": "stream",
          "name": "stdout",
          "text": [
            "[0 1 2 3 4 5 6 7]\n",
            "[4 5]\n",
            "[[ 0  0]\n",
            " [ 4  5]\n",
            " [ 8 10]\n",
            " [12 15]\n",
            " [16 20]\n",
            " [20 25]\n",
            " [24 30]\n",
            " [28 35]]\n"
          ]
        }
      ]
    },
    {
      "cell_type": "markdown",
      "source": [
        "# Hadamard product"
      ],
      "metadata": {
        "id": "k56J_uQ3xYG3"
      }
    },
    {
      "cell_type": "code",
      "source": [
        "a = np.arange(8).reshape(2, 4)\n",
        "b = np.arange(4, 12).reshape(2, 4)\n",
        "prod = np.einsum('ij, ij -> ij', a, b)\n",
        "print(a)\n",
        "print(b)\n",
        "print(prod)"
      ],
      "metadata": {
        "colab": {
          "base_uri": "https://localhost:8080/"
        },
        "id": "pBT_QJSDyoU2",
        "outputId": "14cce036-7001-4f43-e366-0cfee195551f"
      },
      "execution_count": 6,
      "outputs": [
        {
          "output_type": "stream",
          "name": "stdout",
          "text": [
            "[[0 1 2 3]\n",
            " [4 5 6 7]]\n",
            "[[ 4  5  6  7]\n",
            " [ 8  9 10 11]]\n",
            "[[ 0  5 12 21]\n",
            " [32 45 60 77]]\n"
          ]
        }
      ]
    },
    {
      "cell_type": "markdown",
      "source": [
        "# Scalar dot product"
      ],
      "metadata": {
        "id": "KG3UBCyAxYDu"
      }
    },
    {
      "cell_type": "code",
      "source": [
        "a = np.arange(9).reshape(3, 3)\n",
        "b = np.arange(6).reshape(3, 2)\n",
        "prod = np.einsum('ij, jk ->', a, b)\n",
        "print(a)\n",
        "print(b)\n",
        "print(prod)"
      ],
      "metadata": {
        "colab": {
          "base_uri": "https://localhost:8080/"
        },
        "id": "c2xaU1J1yxca",
        "outputId": "cee66101-aa63-4050-fa26-f7b213e5fbfd"
      },
      "execution_count": 7,
      "outputs": [
        {
          "output_type": "stream",
          "name": "stdout",
          "text": [
            "[[0 1 2]\n",
            " [3 4 5]\n",
            " [6 7 8]]\n",
            "[[0 1]\n",
            " [2 3]\n",
            " [4 5]]\n",
            "204\n"
          ]
        }
      ]
    },
    {
      "cell_type": "markdown",
      "source": [
        "# Batch matrix multiplication"
      ],
      "metadata": {
        "id": "ZUXLtdgbxYAy"
      }
    },
    {
      "cell_type": "code",
      "source": [
        "a = np.random.randn(3, 3, 5)\n",
        "b = np.random.randn(3, 5, 2)\n",
        "batch_mult = np.einsum('bij, bjk -> bik', a, b)\n",
        "print(a)\n",
        "print(b)\n",
        "print(batch_mult)"
      ],
      "metadata": {
        "colab": {
          "base_uri": "https://localhost:8080/"
        },
        "id": "jrNmwDvgy3jX",
        "outputId": "07ab41fc-3588-42e1-bbb3-e7019ad077cb"
      },
      "execution_count": 8,
      "outputs": [
        {
          "output_type": "stream",
          "name": "stdout",
          "text": [
            "[[[-0.16564219 -0.54723386 -1.01665884  0.11074938  0.75599002]\n",
            "  [-0.39068596  0.91081794 -1.36214324  0.30025977 -1.39266087]\n",
            "  [ 0.21297227  0.01073878 -0.36712964  1.55547465  1.18195015]]\n",
            "\n",
            " [[-1.04827847  0.81291355 -0.72709657  1.44981231  0.24715466]\n",
            "  [-1.80766552  0.63831142  0.0757464  -1.51223089 -2.90051062]\n",
            "  [ 0.98581466  0.4685963   0.13069661 -0.98655869  0.24445476]]\n",
            "\n",
            " [[ 1.13059061  2.56200855 -0.09741261 -1.57660508 -2.627392  ]\n",
            "  [-0.46122791  0.36122587 -0.58495732  0.36539343  1.97174014]\n",
            "  [-0.26926747  0.31527729 -0.55313835 -0.34390386  1.03295172]]]\n",
            "[[[ 1.37315986  0.14912489]\n",
            "  [-1.03825918  0.11926473]\n",
            "  [-2.34344252 -0.38060762]\n",
            "  [-0.85026068 -1.39030563]\n",
            "  [ 0.33128538 -0.97527541]]\n",
            "\n",
            " [[-0.27444201 -0.9716431 ]\n",
            "  [ 0.11618257 -0.72910583]\n",
            "  [ 0.90204282  1.42684829]\n",
            "  [-1.75350418 -0.15093374]\n",
            "  [ 0.05471032  1.29112309]]\n",
            "\n",
            " [[ 0.37711657  0.47540562]\n",
            "  [-1.15953538  0.71043479]\n",
            "  [-2.03842211 -0.13341756]\n",
            "  [ 1.31671579 -1.09248263]\n",
            "  [-1.21911405  1.1694957 ]]]\n",
            "[[[ 2.87948152 -0.59429293]\n",
            "  [ 0.99329777  1.50958459]\n",
            "  [ 0.21064641 -3.14253952]]\n",
            "\n",
            " [[-2.80246425 -0.51132247]\n",
            "  [ 3.13160186 -2.11758179]\n",
            "  [ 1.64509669 -0.6485059 ]]\n",
            "\n",
            " [[-1.2186574   1.02031571]\n",
            "  [-1.32305774  2.02215632]\n",
            "  [-1.05170056  1.75351264]]]\n"
          ]
        }
      ]
    },
    {
      "cell_type": "markdown",
      "source": [
        "# Tensor reduction"
      ],
      "metadata": {
        "id": "J8_UQaxexX-P"
      }
    },
    {
      "cell_type": "code",
      "source": [
        "a = np.random.randn(2, 3, 5, 7)\n",
        "b = np.random.randn(4, 1, 3, 11, 5)\n",
        "reduction = np.einsum('pqrs, tuqvr -> pstuv', a, b)\n",
        "print(a.shape, b.shape, reduction.shape)"
      ],
      "metadata": {
        "colab": {
          "base_uri": "https://localhost:8080/"
        },
        "id": "0jSyDmIzzFAt",
        "outputId": "490811fc-4625-4119-ae34-2a2769f66461"
      },
      "execution_count": 9,
      "outputs": [
        {
          "output_type": "stream",
          "name": "stdout",
          "text": [
            "(2, 3, 5, 7) (4, 1, 3, 11, 5) (2, 7, 4, 1, 11)\n"
          ]
        }
      ]
    },
    {
      "cell_type": "markdown",
      "source": [
        "# Transpose"
      ],
      "metadata": {
        "id": "Aogz8sijxX7X"
      }
    },
    {
      "cell_type": "code",
      "source": [
        "a = np.arange(8).reshape(4, 2)\n",
        "transpose = np.einsum('ij -> ji', a)\n",
        "print(a)\n",
        "print(transpose)"
      ],
      "metadata": {
        "colab": {
          "base_uri": "https://localhost:8080/"
        },
        "id": "xgR9imm-zM8i",
        "outputId": "abb5e881-f1dd-40e0-cde1-7125068804e6"
      },
      "execution_count": 12,
      "outputs": [
        {
          "output_type": "stream",
          "name": "stdout",
          "text": [
            "[[0 1]\n",
            " [2 3]\n",
            " [4 5]\n",
            " [6 7]]\n",
            "[[0 2 4 6]\n",
            " [1 3 5 7]]\n"
          ]
        }
      ]
    },
    {
      "cell_type": "markdown",
      "source": [
        "# Bilinear transformation"
      ],
      "metadata": {
        "id": "mVNZvKoPxX3v"
      }
    },
    {
      "cell_type": "code",
      "source": [
        "a = np.random.randn(2, 3)\n",
        "b = np.random.randn(3, 3, 4)\n",
        "c = np.random.randn(2, 4)\n",
        "bilinear = np.einsum('ik, jkl, il -> ij', a, b, c)\n",
        "print(a)\n",
        "print(b)\n",
        "print(c)\n",
        "print(bilinear)"
      ],
      "metadata": {
        "colab": {
          "base_uri": "https://localhost:8080/"
        },
        "id": "NpO0UfafzbAy",
        "outputId": "0b51d4b5-fd26-4642-db5f-ef5891452c79"
      },
      "execution_count": 13,
      "outputs": [
        {
          "output_type": "stream",
          "name": "stdout",
          "text": [
            "[[ 0.70124649  1.60948819  0.31722078]\n",
            " [ 0.24116532 -0.51447308 -1.53361881]]\n",
            "[[[ 0.13380502 -0.36391307 -1.32604818 -0.70107411]\n",
            "  [ 0.93625301 -0.6622212   0.79882163 -0.20676776]\n",
            "  [ 0.24392222  0.34713821  0.37541957  0.18706691]]\n",
            "\n",
            " [[-0.55404409 -0.75579131  0.60487663  0.31248687]\n",
            "  [ 1.01500443 -0.18676334 -1.06609955 -0.57650207]\n",
            "  [ 0.18111822  0.66415499 -1.70337762 -1.98882065]]\n",
            "\n",
            " [[ 0.10851586 -0.00956364 -0.92037992  1.64063235]\n",
            "  [-0.67035742  1.00444505 -0.99765005 -0.21074751]\n",
            "  [-0.3373265  -0.48273546  0.92826361 -1.32492068]]]\n",
            "[[ 0.1563591   1.37430495  1.40705664  0.29735514]\n",
            " [-0.18371616 -0.58239636  0.12502318 -1.40448724]]\n",
            "[[-0.96106491 -3.62442236 -0.80830166]\n",
            " [ 0.64168313 -3.57789785 -3.99543326]]\n"
          ]
        }
      ]
    },
    {
      "cell_type": "markdown",
      "source": [
        "# Attention"
      ],
      "metadata": {
        "id": "vTUdI6V_xX0b"
      }
    },
    {
      "cell_type": "code",
      "source": [
        "bM = np.random.randn(7)\n",
        "br = np.random.randn(7) \n",
        "w = np.random.randn(7)\n",
        "WY = np.random.randn(7, 7)\n",
        "Wh = np.random.randn(7, 7)\n",
        "Wr = np.random.randn(7, 7)\n",
        "Wt = np.random.randn(7, 7)\n",
        "\n",
        "def attention(Y, ht, rt1): \n",
        "  tmp = np.einsum('ik, kl -> il', ht, Wh) + np.einsum('ik, kl -> il', rt1, Wr)\n",
        "\n",
        "  tmp_expanded = np.expand_dims(tmp, 1)\n",
        "  tmp_tiled = np.tile(tmp_expanded, [1, Y.shape[1], 1]) \n",
        "  Mt = np.tanh(np.einsum('ijk, kl -> ijl', Y, WY) + tmp_tiled + bM)\n",
        "  at = np.einsum('ijk, k -> ij', Mt, w)\n",
        "  at = np.exp(at)/np.sum(np.exp(at))\n",
        "  rt = np.einsum('ijk, ij -> ik', Y, at) + np.tanh(np.einsum('ij, jk -> ik', rt1, Wt) + br)\n",
        "  \n",
        "  return rt, at\n",
        "Y = np.random.randn(3,5,7)\n",
        "ht = np.random.randn(3, 7)\n",
        "rt1 = np.random.randn(3, 7)\n",
        "\n",
        "rt, at = attention(Y, ht, rt1)\n",
        "\n",
        "print(at)"
      ],
      "metadata": {
        "colab": {
          "base_uri": "https://localhost:8080/"
        },
        "id": "EzioV8s7ziUg",
        "outputId": "b729218b-b049-4e05-ea0e-63452e398bb1"
      },
      "execution_count": 14,
      "outputs": [
        {
          "output_type": "stream",
          "name": "stdout",
          "text": [
            "[[3.48114866e-03 3.40506344e-04 8.37728025e-03 2.21285479e-02\n",
            "  3.13852917e-02]\n",
            " [2.90071016e-02 6.67772636e-02 4.64269542e-01 8.62240233e-03\n",
            "  2.49255168e-01]\n",
            " [3.21470840e-03 2.66820444e-03 2.93354020e-03 1.07460280e-01\n",
            "  7.90138989e-05]]\n"
          ]
        }
      ]
    },
    {
      "cell_type": "markdown",
      "source": [
        "# Treeqn"
      ],
      "metadata": {
        "id": "rr2Md4zJxXxe"
      }
    },
    {
      "cell_type": "code",
      "source": [
        "def transition(zl):\n",
        "  return np.expand_dims(zl, 1) + np.tanh(np.einsum('bk, aki -> bai', zl, W) + b)\n",
        "zl = np.random.rand(2, 3)\n",
        "b = np.random.rand(5, 3)\n",
        "W = np.random.rand(5, 3, 3)\n",
        "\n",
        "transition(zl)"
      ],
      "metadata": {
        "colab": {
          "base_uri": "https://localhost:8080/"
        },
        "id": "NxIsub9bzr2e",
        "outputId": "5378b471-eb5b-47bd-8982-555bd36b95c7"
      },
      "execution_count": 17,
      "outputs": [
        {
          "output_type": "execute_result",
          "data": {
            "text/plain": [
              "array([[[0.92065722, 1.22626795, 1.02561829],\n",
              "        [1.13102881, 1.14190109, 0.88295137],\n",
              "        [1.0178306 , 1.26152678, 0.93008915],\n",
              "        [1.30790419, 1.17894969, 0.75090542],\n",
              "        [1.16750658, 1.31851813, 1.03026076]],\n",
              "\n",
              "       [[1.50661146, 1.37104525, 1.12629072],\n",
              "        [1.60637423, 1.30166898, 1.06161207],\n",
              "        [1.46959814, 1.28055049, 1.09141004],\n",
              "        [1.77759582, 1.21141922, 0.85053703],\n",
              "        [1.70846706, 1.40156157, 1.13235522]]])"
            ]
          },
          "metadata": {},
          "execution_count": 17
        }
      ]
    }
  ]
}
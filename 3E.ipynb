{
  "nbformat": 4,
  "nbformat_minor": 0,
  "metadata": {
    "colab": {
      "provenance": [],
      "authorship_tag": "ABX9TyOd32j0kRgpyNXm3QPX1BMA",
      "include_colab_link": true
    },
    "kernelspec": {
      "name": "python3",
      "display_name": "Python 3"
    },
    "language_info": {
      "name": "python"
    }
  },
  "cells": [
    {
      "cell_type": "markdown",
      "metadata": {
        "id": "view-in-github",
        "colab_type": "text"
      },
      "source": [
        "<a href=\"https://colab.research.google.com/github/ChirudeepG/CMPE-258-Assignment2/blob/main/2B_using_tensorflow.ipynb\" target=\"_parent\"><img src=\"https://colab.research.google.com/assets/colab-badge.svg\" alt=\"Open In Colab\"/></a>"
      ]
    },
    {
      "cell_type": "code",
      "execution_count": 1,
      "metadata": {
        "id": "vRHv6rGxszd5"
      },
      "outputs": [],
      "source": [
        "import tensorflow as tf"
      ]
    },
    {
      "cell_type": "code",
      "source": [
        "a = tf.random.normal([2])\n",
        "b = tf.random.normal([4, 5])\n",
        "mult = tf.einsum('k, ij -> ij', a, b)\n",
        "print(a)\n",
        "print(b)\n",
        "print(mult)"
      ],
      "metadata": {
        "colab": {
          "base_uri": "https://localhost:8080/"
        },
        "id": "6KNWSTostxjM",
        "outputId": "6c85b82a-87bb-4f79-968c-d6e4570ea66a"
      },
      "execution_count": 2,
      "outputs": [
        {
          "output_type": "stream",
          "name": "stdout",
          "text": [
            "tf.Tensor([ 1.4897943 -1.1748651], shape=(2,), dtype=float32)\n",
            "tf.Tensor(\n",
            "[[-0.40116578  0.38682494  0.17673711 -1.2007526   0.79707456]\n",
            " [-1.4183741   0.45510516  0.02622974  3.0723755  -1.2560861 ]\n",
            " [-0.5424445  -1.2664225  -0.21043049 -0.79208803 -0.6240281 ]\n",
            " [ 0.45787165  0.65279037  1.1282362  -0.20572892  2.105647  ]], shape=(4, 5), dtype=float32)\n",
            "tf.Tensor(\n",
            "[[-0.1263388   0.12182244  0.05565967 -0.37815198  0.25102198]\n",
            " [-0.4466873   0.14332587  0.00826051  0.96758056 -0.39557812]\n",
            " [-0.17083158 -0.39883333 -0.06627069 -0.2494516  -0.19652462]\n",
            " [ 0.14419712  0.20558271  0.35531443 -0.06479003  0.6631296 ]], shape=(4, 5), dtype=float32)\n"
          ]
        }
      ]
    },
    {
      "cell_type": "markdown",
      "source": [
        "# Vector vector multiplication"
      ],
      "metadata": {
        "id": "s7guuktWuhiE"
      }
    },
    {
      "cell_type": "code",
      "source": [
        "a = tf.random.normal([3, 6])\n",
        "b = tf.random.normal([6, 4])\n",
        "mult = tf.einsum('ij, jk -> ik', a, b)\n",
        "print(a)\n",
        "print(b)\n",
        "print(mult)"
      ],
      "metadata": {
        "colab": {
          "base_uri": "https://localhost:8080/"
        },
        "id": "zf7fR3JzukT8",
        "outputId": "301f51fc-6c75-4107-e7a8-d961c6463940"
      },
      "execution_count": 3,
      "outputs": [
        {
          "output_type": "stream",
          "name": "stdout",
          "text": [
            "tf.Tensor(\n",
            "[[ 0.32306722 -0.18537551 -0.4724793   0.225053   -1.4052966  -0.42374587]\n",
            " [ 0.54405564 -0.0844814  -0.40284812  0.20447113 -1.6826541   0.47651416]\n",
            " [-0.66700053 -0.536485   -1.6320355  -0.50667334  0.25962985  2.2471309 ]], shape=(3, 6), dtype=float32)\n",
            "tf.Tensor(\n",
            "[[ 1.1100532  -0.36126894 -0.92321265  1.0629514 ]\n",
            " [-1.2417707   0.24940212  0.55500406 -1.0865283 ]\n",
            " [ 0.80707324 -1.332068   -1.3956316   0.01812829]\n",
            " [ 1.1491086  -1.0019308   0.26604718 -1.2544038 ]\n",
            " [ 0.90796083  0.6200239   0.8441721  -0.03532929]\n",
            " [-0.14513102  2.0127769  -0.5451826  -1.520093  ]], shape=(6, 4), dtype=float32)\n",
            "tf.Tensor(\n",
            "[[-0.74835503 -1.4832836  -0.6371554   0.9477291 ]\n",
            " [-0.97827214  0.02996576 -1.612777   -0.258595  ]\n",
            " [-2.064004    7.472749    1.4550289  -2.9451165 ]], shape=(3, 4), dtype=float32)\n"
          ]
        }
      ]
    },
    {
      "cell_type": "markdown",
      "source": [
        "# Outer product"
      ],
      "metadata": {
        "id": "jChKwQyquu3U"
      }
    },
    {
      "cell_type": "code",
      "source": [
        "a = tf.range(5)\n",
        "b = tf.range(2, 6)  \n",
        "prod = tf.einsum('i,j -> ij', a, b)\n",
        "print(a)\n",
        "print(b)\n",
        "print(prod)"
      ],
      "metadata": {
        "colab": {
          "base_uri": "https://localhost:8080/"
        },
        "id": "XcEJIpS5urMk",
        "outputId": "88340b57-92c6-48bc-fde1-18ab8369bdab"
      },
      "execution_count": 4,
      "outputs": [
        {
          "output_type": "stream",
          "name": "stdout",
          "text": [
            "tf.Tensor([0 1 2 3 4], shape=(5,), dtype=int32)\n",
            "tf.Tensor([2 3 4 5], shape=(4,), dtype=int32)\n",
            "tf.Tensor(\n",
            "[[ 0  0  0  0]\n",
            " [ 2  3  4  5]\n",
            " [ 4  6  8 10]\n",
            " [ 6  9 12 15]\n",
            " [ 8 12 16 20]], shape=(5, 4), dtype=int32)\n"
          ]
        }
      ]
    },
    {
      "cell_type": "markdown",
      "source": [
        "# Scalar dot product"
      ],
      "metadata": {
        "id": "Ba9hlLPRu5ys"
      }
    },
    {
      "cell_type": "code",
      "source": [
        "a = tf.range(9)\n",
        "a = tf.reshape(a, [3, 3])\n",
        "\n",
        "b = tf.range(6)\n",
        "b = tf.reshape(b, [3, 2])\n",
        "\n",
        "prod = tf.einsum('ij, jk ->', a, b)\n",
        "print(a)\n",
        "print(b)\n",
        "print(prod)"
      ],
      "metadata": {
        "colab": {
          "base_uri": "https://localhost:8080/"
        },
        "id": "lkG2iWZAu1EH",
        "outputId": "b7be70c8-d7f9-4eb8-b46a-aa6cc54b930d"
      },
      "execution_count": 6,
      "outputs": [
        {
          "output_type": "stream",
          "name": "stdout",
          "text": [
            "tf.Tensor(\n",
            "[[0 1 2]\n",
            " [3 4 5]\n",
            " [6 7 8]], shape=(3, 3), dtype=int32)\n",
            "tf.Tensor(\n",
            "[[0 1]\n",
            " [2 3]\n",
            " [4 5]], shape=(3, 2), dtype=int32)\n",
            "tf.Tensor(204, shape=(), dtype=int32)\n"
          ]
        }
      ]
    },
    {
      "cell_type": "markdown",
      "source": [
        "# Hadamard product"
      ],
      "metadata": {
        "id": "CqCj4ddwvFDH"
      }
    },
    {
      "cell_type": "code",
      "source": [
        "a = tf.range(8)\n",
        "a = tf.reshape(a, [2, 4])\n",
        "\n",
        "b = tf.range(4, 12)\n",
        "b = tf.reshape(b, [2, 4])\n",
        "\n",
        "prod = tf.einsum('ij, ij -> ij', a, b)\n",
        "print(a)\n",
        "print(b)\n",
        "print(prod)"
      ],
      "metadata": {
        "colab": {
          "base_uri": "https://localhost:8080/"
        },
        "id": "tQ6raHglvDaj",
        "outputId": "ebc57661-c1ba-41cf-d8b1-364db7255f69"
      },
      "execution_count": 9,
      "outputs": [
        {
          "output_type": "stream",
          "name": "stdout",
          "text": [
            "tf.Tensor(\n",
            "[[0 1 2 3]\n",
            " [4 5 6 7]], shape=(2, 4), dtype=int32)\n",
            "tf.Tensor(\n",
            "[[ 4  5  6  7]\n",
            " [ 8  9 10 11]], shape=(2, 4), dtype=int32)\n",
            "tf.Tensor(\n",
            "[[ 0  5 12 21]\n",
            " [32 45 60 77]], shape=(2, 4), dtype=int32)\n"
          ]
        }
      ]
    },
    {
      "cell_type": "markdown",
      "source": [
        "# Batch matrix multiplication\n",
        "\n"
      ],
      "metadata": {
        "id": "DBs8UNZfvX2Q"
      }
    },
    {
      "cell_type": "code",
      "source": [
        "a = tf.random.normal([3, 4, 4])\n",
        "b = tf.random.normal([3, 4, 4])\n",
        "batch_mult = tf.einsum('bij, bjk -> bik', a, b)\n",
        "print(a)\n",
        "print(b)\n",
        "print(batch_mult)"
      ],
      "metadata": {
        "colab": {
          "base_uri": "https://localhost:8080/"
        },
        "id": "fWZq7iXtvTGj",
        "outputId": "7ad2f9fd-7bd7-4699-b561-29354f09085d"
      },
      "execution_count": 14,
      "outputs": [
        {
          "output_type": "stream",
          "name": "stdout",
          "text": [
            "tf.Tensor(\n",
            "[[[-0.4574606   0.17234048 -1.2353694   0.07536527]\n",
            "  [ 0.10458714 -0.3633794  -1.2641603  -0.11474583]\n",
            "  [-0.86359936 -0.7911325  -0.03576707  0.6501386 ]\n",
            "  [-0.2698698   0.5830658   0.27838397  0.03318968]]\n",
            "\n",
            " [[-1.8916273   0.54657894  1.1253119   2.0036027 ]\n",
            "  [ 0.7496654  -1.298532    0.31670547 -0.7526369 ]\n",
            "  [-3.272598    0.5489559  -2.2832375   1.2624373 ]\n",
            "  [ 0.5757006   0.56993073 -2.0965347  -0.28902477]]\n",
            "\n",
            " [[-0.11277851 -0.60545987 -1.8494831   0.9527181 ]\n",
            "  [-0.16950656 -0.8912583  -0.3203133  -0.49128297]\n",
            "  [-1.6056501   0.4030037  -1.0536739   0.1971661 ]\n",
            "  [ 0.62148464  0.1492531  -0.05015562  0.64526975]]], shape=(3, 4, 4), dtype=float32)\n",
            "tf.Tensor(\n",
            "[[[-1.0964999  -0.33527336  1.0389693  -0.04578558]\n",
            "  [-0.29479122 -1.0236908  -0.0290921   0.7950204 ]\n",
            "  [ 0.70197296 -1.1568508   0.95371866  1.136642  ]\n",
            "  [ 0.41394496 -0.62055326  0.621883    0.19299506]]\n",
            "\n",
            " [[ 0.1375564  -0.11231506  2.3248186  -0.42641497]\n",
            "  [-0.29666048  0.34169146 -0.76754713  0.26789144]\n",
            "  [ 0.18166177 -1.9571524  -2.2239473   0.51790226]\n",
            "  [-1.1747411  -0.28670382  0.12179421  2.3212798 ]]\n",
            "\n",
            " [[-1.7521303   0.00982956  0.8647872   0.69623566]\n",
            "  [ 0.7486088  -0.03978059  0.3711529  -1.6378571 ]\n",
            "  [ 1.3388498   0.8284213  -2.4234822  -0.89781237]\n",
            "  [-0.93139124  0.36593574  1.1592058  -1.1357921 ]]], shape=(3, 4, 4), dtype=float32)\n",
            "tf.Tensor(\n",
            "[[[-0.38519785  1.359321   -1.6116278  -1.2316684 ]\n",
            "  [-0.9424636   1.8705736  -1.1577773  -1.7527256 ]\n",
            "  [ 1.4241697   0.73734856 -0.50403917 -0.5046069 ]\n",
            "  [ 0.3331862  -0.84904367 -0.01120899  0.7987337 ]]\n",
            "\n",
            " [[-2.5716424  -2.3776276  -7.075823    6.1867657 ]\n",
            "  [ 1.4300313  -0.931953    1.9435176  -2.2505925 ]\n",
            "  [-2.5108345   4.661834   -2.7979894   3.2905219 ]\n",
            "  [-0.13121554  4.316183    5.528332   -1.8495152 ]]\n",
            "\n",
            " [[-3.6191835  -1.1605406   5.264338    1.4915354 ]\n",
            "  [-0.341481   -0.41134375 -0.27060467  2.1873138 ]\n",
            "  [ 1.5206504  -0.83255035  1.5431461  -1.0559115 ]\n",
            "  [-1.6453393   0.19474883  1.4623995  -0.49961746]]], shape=(3, 4, 4), dtype=float32)\n"
          ]
        }
      ]
    },
    {
      "cell_type": "markdown",
      "source": [
        "# Tensor reduction\n",
        "\n"
      ],
      "metadata": {
        "id": "y9irM6vEvmig"
      }
    },
    {
      "cell_type": "code",
      "source": [
        "a = tf.random.normal([2, 3, 5, 7])\n",
        "b = tf.random.normal([4, 1, 3, 11, 5])\n",
        "reduction = tf.einsum('pqrs, tuqvr -> pstuv', a, b)\n",
        "print(a.shape, b.shape, reduction.shape)"
      ],
      "metadata": {
        "colab": {
          "base_uri": "https://localhost:8080/"
        },
        "id": "y09Sva0-vhBq",
        "outputId": "9447fcc7-f720-4942-ed9f-9a3516c9edfb"
      },
      "execution_count": 18,
      "outputs": [
        {
          "output_type": "stream",
          "name": "stdout",
          "text": [
            "(2, 3, 5, 7) (4, 1, 3, 11, 5) (2, 7, 4, 1, 11)\n"
          ]
        }
      ]
    },
    {
      "cell_type": "markdown",
      "source": [
        "# Transpose"
      ],
      "metadata": {
        "id": "Kto113mZv7Fp"
      }
    },
    {
      "cell_type": "code",
      "source": [
        "a = tf.range(8)\n",
        "a = tf.reshape(a, [4, 2])\n",
        "transpose = tf.einsum('ij -> ji', a)\n",
        "print(a)\n",
        "print(transpose)"
      ],
      "metadata": {
        "colab": {
          "base_uri": "https://localhost:8080/"
        },
        "id": "SfKo2Y7lv01y",
        "outputId": "f188c296-e085-455e-cbdc-f645c017d23a"
      },
      "execution_count": 22,
      "outputs": [
        {
          "output_type": "stream",
          "name": "stdout",
          "text": [
            "tf.Tensor(\n",
            "[[0 1]\n",
            " [2 3]\n",
            " [4 5]\n",
            " [6 7]], shape=(4, 2), dtype=int32)\n",
            "tf.Tensor(\n",
            "[[0 2 4 6]\n",
            " [1 3 5 7]], shape=(2, 4), dtype=int32)\n"
          ]
        }
      ]
    },
    {
      "cell_type": "markdown",
      "source": [
        "# Bilinear transformation"
      ],
      "metadata": {
        "id": "sZlnWLj0wJdm"
      }
    },
    {
      "cell_type": "code",
      "source": [
        "a = tf.random.normal([2, 3])\n",
        "b = tf.random.normal([3, 3, 4])\n",
        "c = tf.random.normal([2, 4])\n",
        "bilinear = tf.einsum('ik, jkl, il -> ij', a, b, c)\n",
        "print(a)\n",
        "print(b)\n",
        "print(c)\n",
        "print(bilinear)"
      ],
      "metadata": {
        "colab": {
          "base_uri": "https://localhost:8080/"
        },
        "id": "BK0BtYStwE0D",
        "outputId": "7aa11df8-88cf-4dd0-89ef-e94ed9831c8b"
      },
      "execution_count": 23,
      "outputs": [
        {
          "output_type": "stream",
          "name": "stdout",
          "text": [
            "tf.Tensor(\n",
            "[[-0.35930634 -1.250925   -0.5186949 ]\n",
            " [ 0.84256834 -0.09247732 -0.05536413]], shape=(2, 3), dtype=float32)\n",
            "tf.Tensor(\n",
            "[[[-0.6104283   1.2481927  -0.5915614   0.6860771 ]\n",
            "  [-0.6456257   0.4051475   0.24062672  0.2963591 ]\n",
            "  [-0.2844441  -2.6942496  -0.51876074  0.05682862]]\n",
            "\n",
            " [[ 0.2425737   0.41953266 -0.67480063 -0.80366373]\n",
            "  [-1.1917937   0.90725046 -0.51389843 -0.18593773]\n",
            "  [-1.0136105   1.2020969  -1.3366598   0.84027594]]\n",
            "\n",
            " [[-2.271639    0.2520425   1.2846333  -1.5649188 ]\n",
            "  [ 2.062921    0.7518206  -0.8873531   0.2025963 ]\n",
            "  [-1.8807793   0.71498406 -0.74577415  1.131761  ]]], shape=(3, 3, 4), dtype=float32)\n",
            "tf.Tensor(\n",
            "[[ 0.7309487  -0.44401228 -0.5143638   1.328198  ]\n",
            " [-0.01878936 -1.2040316   0.96005756 -1.5518479 ]], shape=(2, 4), dtype=float32)\n",
            "tf.Tensor(\n",
            "[[-0.28971112  1.5595987  -0.8561009 ]\n",
            " [-2.7144778   0.4157254   3.243355  ]], shape=(2, 3), dtype=float32)\n"
          ]
        }
      ]
    },
    {
      "cell_type": "markdown",
      "source": [
        "#Attention"
      ],
      "metadata": {
        "id": "rweSRYRhwR1n"
      }
    },
    {
      "cell_type": "code",
      "source": [
        "bM = tf.random.normal([7])\n",
        "br = tf.random.normal([7]) \n",
        "w = tf.random.normal([7])\n",
        "WY = tf.random.normal([7, 7])\n",
        "Wh = tf.random.normal([7, 7])\n",
        "Wr = tf.random.normal([7, 7])\n",
        "Wt = tf.random.normal([7, 7])\n",
        "\n",
        "def attention(Y, ht, rt1): \n",
        "  tmp = tf.einsum('ik, kl -> il', ht, Wh) + tf.einsum('ik, kl -> il', rt1, Wr)\n",
        "\n",
        "  tmp_expanded = tf.expand_dims(tmp, 1)\n",
        "  tmp_tiled = tf.tile(tmp_expanded, [1, Y.shape[1], 1]) \n",
        "  Mt = tf.tanh(tf.einsum('ijk, kl -> ijl', Y, WY) + tmp_tiled + bM)\n",
        "  at = tf.nn.softmax(tf.einsum('ijk, k -> ij', Mt, w)) \n",
        "  rt = tf.einsum('ijk, ij -> ik', Y, at) + tf.tanh(tf.einsum('ij, jk -> ik', rt1, Wt) + br)\n",
        "  \n",
        "  return rt, at\n",
        "Y = tf.random.normal([3,5,7])\n",
        "ht = tf.random.normal([3, 7])\n",
        "rt1 = tf.random.normal([3, 7])\n",
        "\n",
        "rt, at = attention(Y, ht, rt1)\n",
        "\n",
        "print(at)"
      ],
      "metadata": {
        "colab": {
          "base_uri": "https://localhost:8080/"
        },
        "id": "50L6Ko0CwLT6",
        "outputId": "c0364d2a-c679-40ee-9870-2192273f4a7e"
      },
      "execution_count": 24,
      "outputs": [
        {
          "output_type": "stream",
          "name": "stdout",
          "text": [
            "tf.Tensor(\n",
            "[[4.3781173e-01 4.6169737e-01 9.9337876e-02 7.6900847e-04 3.8408276e-04]\n",
            " [6.3691795e-02 1.4779721e-03 2.6286913e-03 2.1490805e-02 9.1071075e-01]\n",
            " [3.4938163e-01 1.5173681e-01 8.4784359e-02 2.3056918e-01 1.8352799e-01]], shape=(3, 5), dtype=float32)\n"
          ]
        }
      ]
    },
    {
      "cell_type": "markdown",
      "source": [
        "# Treeqn"
      ],
      "metadata": {
        "id": "YR_Ao0UUwlDS"
      }
    },
    {
      "cell_type": "code",
      "source": [
        "def transition(zl):\n",
        "  return tf.expand_dims(zl, 1) + tf.tanh(tf.einsum('bk, aki -> bai', zl, W) + b)\n",
        "zl = tf.random.normal([2, 3])\n",
        "b = tf.random.normal([5, 3])\n",
        "W = tf.random.normal([5, 3, 3])\n",
        "\n",
        "transition(zl)"
      ],
      "metadata": {
        "colab": {
          "base_uri": "https://localhost:8080/"
        },
        "id": "KMiW2eRzwe7o",
        "outputId": "217e4493-a58d-4791-b5ec-a0f2d3451354"
      },
      "execution_count": 25,
      "outputs": [
        {
          "output_type": "execute_result",
          "data": {
            "text/plain": [
              "<tf.Tensor: shape=(2, 5, 3), dtype=float32, numpy=\n",
              "array([[[-1.5490136 ,  0.98833334, -0.85156745],\n",
              "        [-0.3282224 , -0.13758643, -1.5673225 ],\n",
              "        [-2.3149867 , -0.4818615 , -1.4423692 ],\n",
              "        [-0.33510405, -0.966508  , -1.4038703 ],\n",
              "        [-2.3228185 ,  0.45530856,  0.32462722]],\n",
              "\n",
              "       [[-1.7028899 ,  1.2440329 ,  2.4835205 ],\n",
              "        [ 0.0331493 , -0.0188576 ,  2.3562121 ],\n",
              "        [-0.5034164 ,  1.647627  ,  1.0776937 ],\n",
              "        [ 0.23467243,  0.9292601 ,  1.1996545 ],\n",
              "        [-1.7019521 ,  1.329395  ,  0.7620082 ]]], dtype=float32)>"
            ]
          },
          "metadata": {},
          "execution_count": 25
        }
      ]
    }
  ]
}